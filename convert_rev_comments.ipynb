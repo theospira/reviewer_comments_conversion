{
 "cells": [
  {
   "cell_type": "markdown",
   "id": "6b6e290c-f846-445e-a90f-99e4b41d1a1e",
   "metadata": {},
   "source": [
    "# convert from text file to excel file"
   ]
  },
  {
   "cell_type": "code",
   "execution_count": 8,
   "id": "73549f37-e40f-4a7e-9545-a08d27a8fddb",
   "metadata": {},
   "outputs": [
    {
     "name": "stdout",
     "output_type": "stream",
     "text": [
      "Comments have been successfully written to reviewer2_comments.xlsx\n"
     ]
    }
   ],
   "source": [
    "import pandas as pd\n",
    "\n",
    "# Read the comments from the text file\n",
    "with open('reviewer2_comments.txt', 'r') as file:\n",
    "    lines = file.readlines()\n",
    "\n",
    "# Initialize lists to store parsed data\n",
    "major_comments = []\n",
    "minor_comments = []\n",
    "current_section = None\n",
    "\n",
    "# Define helper functions to identify specific and minor comments\n",
    "def is_major_comment(line):\n",
    "    line = line.strip()\n",
    "    return line and line[0].isdigit() and line[1] == '.'\n",
    "\n",
    "def is_minor_comment(line):\n",
    "    return line.strip().startswith('- Line')\n",
    "\n",
    "# Parse the comments\n",
    "for line in lines:\n",
    "    line = line.strip()\n",
    "    if line.startswith(\"Specific comments:\"):\n",
    "        current_section = \"Major Comments\"\n",
    "    elif line.startswith(\"Minor comments / technical suggestions:\"):\n",
    "        current_section = \"Minor Comments\"\n",
    "    elif current_section == \"Major Comments\" and is_major_comment(line):\n",
    "        major_comments.append(line)\n",
    "    elif current_section == \"Major Comments\" and line:\n",
    "        major_comments[-1] += \" \" + line\n",
    "    elif current_section == \"Minor Comments\" and is_minor_comment(line):\n",
    "        minor_comments.append(line)\n",
    "    elif current_section == \"Minor Comments\" and line:\n",
    "        minor_comments[-1] += \" \" + line\n",
    "\n",
    "# Create DataFrames\n",
    "df_major = pd.DataFrame({\n",
    "    'Category': ['Major Comment'] * len(major_comments),\n",
    "    'Comment': major_comments\n",
    "})\n",
    "\n",
    "df_minor = pd.DataFrame({\n",
    "    'Category': ['Minor Comment'] * len(minor_comments),\n",
    "    'Comment': minor_comments\n",
    "})\n",
    "\n",
    "# Concatenate the DataFrames\n",
    "df = pd.concat([df_major, df_minor], ignore_index=True)\n",
    "\n",
    "# Save the DataFrame to an Excel file\n",
    "df.to_excel('reviewer2_comments.xlsx', index=False)\n",
    "\n",
    "print(\"Comments have been successfully written to reviewer2_comments.xlsx\")"
   ]
  },
  {
   "cell_type": "markdown",
   "id": "e57ff80f-ecb3-4f66-a446-ad81e200cda8",
   "metadata": {},
   "source": [
    "# convert from excel file to word doc"
   ]
  },
  {
   "cell_type": "code",
   "execution_count": 2,
   "id": "880e42cf-7865-4923-8f08-19836088a221",
   "metadata": {},
   "outputs": [
    {
     "name": "stdout",
     "output_type": "stream",
     "text": [
      "Collecting python-docx\n",
      "  Downloading python_docx-1.1.2-py3-none-any.whl.metadata (2.0 kB)\n",
      "Collecting lxml>=3.1.0 (from python-docx)\n",
      "  Downloading lxml-5.2.2-cp311-cp311-manylinux_2_28_x86_64.whl.metadata (3.4 kB)\n",
      "Collecting typing-extensions>=4.9.0 (from python-docx)\n",
      "  Downloading typing_extensions-4.12.2-py3-none-any.whl.metadata (3.0 kB)\n",
      "Downloading python_docx-1.1.2-py3-none-any.whl (244 kB)\n",
      "\u001b[2K   \u001b[90m━━━━━━━━━━━━━━━━━━━━━━━━━━━━━━━━━━━━━━━━\u001b[0m \u001b[32m244.3/244.3 kB\u001b[0m \u001b[31m2.5 MB/s\u001b[0m eta \u001b[36m0:00:00\u001b[0mta \u001b[36m0:00:01\u001b[0m\n",
      "\u001b[?25hDownloading lxml-5.2.2-cp311-cp311-manylinux_2_28_x86_64.whl (5.0 MB)\n",
      "\u001b[2K   \u001b[90m━━━━━━━━━━━━━━━━━━━━━━━━━━━━━━━━━━━━━━━━\u001b[0m \u001b[32m5.0/5.0 MB\u001b[0m \u001b[31m26.5 MB/s\u001b[0m eta \u001b[36m0:00:00\u001b[0m:00:01\u001b[0m00:01\u001b[0m\n",
      "\u001b[?25hDownloading typing_extensions-4.12.2-py3-none-any.whl (37 kB)\n",
      "Installing collected packages: typing-extensions, lxml, python-docx\n",
      "  Attempting uninstall: typing-extensions\n",
      "    Found existing installation: typing_extensions 4.7.1\n",
      "    Uninstalling typing_extensions-4.7.1:\n",
      "      Successfully uninstalled typing_extensions-4.7.1\n",
      "Successfully installed lxml-5.2.2 python-docx-1.1.2 typing-extensions-4.12.2\n",
      "Note: you may need to restart the kernel to use updated packages.\n"
     ]
    }
   ],
   "source": [
    "%pip install python-docx"
   ]
  },
  {
   "cell_type": "code",
   "execution_count": 51,
   "id": "e2014c12-cbaa-4743-ab68-aad13d57d6ef",
   "metadata": {},
   "outputs": [],
   "source": [
    "import openpyxl\n",
    "from docx import Document\n",
    "from docx.shared import RGBColor\n",
    "from docx.oxml.ns import qn\n",
    "from docx.oxml import OxmlElement\n",
    "\n",
    "xlsx_fname = 'point-to-point.xlsx'\n",
    "docx_fname = 'point-to-point.docx'\n",
    "\n",
    "# Load the workbook and select the active worksheet\n",
    "wb = openpyxl.load_workbook(xlsx_fname)\n",
    "ws = wb.active\n",
    "\n",
    "# Define the color codes\n",
    "seb_marcel_color = 'e06666'  # Pastel red\n",
    "theo_color = 'f6b26b'  # Pastel orange\n",
    "\n",
    "# Function to create a run with specified color\n",
    "def create_colored_run(paragraph, text, color):\n",
    "    run = paragraph.add_run(text)\n",
    "    font = run.font\n",
    "    font.color.rgb = RGBColor.from_string(color.upper())\n",
    "    return run\n",
    "\n",
    "# Function to apply blockquote style\n",
    "def apply_blockquote(paragraph):\n",
    "    p = paragraph._element\n",
    "    pPr = p.get_or_add_pPr()\n",
    "    pStyle = OxmlElement('w:pStyle')\n",
    "    pStyle.set(qn('w:val'), 'Quote')\n",
    "    pPr.insert(0, pStyle)\n",
    "\n",
    "# Create a new Word document\n",
    "doc = Document()\n",
    "\n",
    "# Loop through the rows and process the comments and responses\n",
    "current_reviewer = None\n",
    "for row in ws.iter_rows(min_row=2):\n",
    "    category = row[1].value\n",
    "    comment = row[2].value\n",
    "    response = row[3].value\n",
    "    cell_content = row[0].value\n",
    "\n",
    "    if category != current_reviewer:\n",
    "        if category == 'Reviewer 1':\n",
    "            doc.add_heading('Reviewer 1 Comments', level=1)\n",
    "        elif category == 'Reviewer 2':\n",
    "            doc.add_heading('Reviewer 2 Comments', level=1)\n",
    "        current_reviewer = category\n",
    "\n",
    "    # Create a paragraph for the comment and apply blockquote style\n",
    "    comment_paragraph = doc.add_paragraph()\n",
    "    apply_blockquote(comment_paragraph)\n",
    "    comment_paragraph.add_run(comment)\n",
    "\n",
    "    # Check the contents of the cell in column A and add the additional lines if needed\n",
    "    if cell_content and (\"sup\" in cell_content.lower() or \"supervisor\" in cell_content.lower()):\n",
    "        note_paragraph = doc.add_paragraph()\n",
    "        create_colored_run(note_paragraph, \"NB: Seb and Marcel to check.\\n\", seb_marcel_color)\n",
    "        create_colored_run(note_paragraph, cell_content + \"\\n\", seb_marcel_color)\n",
    "    elif cell_content and cell_content.lower() not in [\"yes\", \"\"]:\n",
    "        note_paragraph = doc.add_paragraph()\n",
    "        create_colored_run(note_paragraph, \"Theo to return to\\n\", theo_color)\n",
    "        create_colored_run(note_paragraph, cell_content + \"\\n\", theo_color)\n",
    "\n",
    "    # Create a paragraph for the response\n",
    "    response_paragraph = doc.add_paragraph()\n",
    "    response_paragraph.add_run(response).font.color.rgb = RGBColor(0, 0, 255)\n",
    "\n",
    "# Save the Word document\n",
    "doc.save(docx_fname)"
   ]
  }
 ],
 "metadata": {
  "kernelspec": {
   "display_name": "Python 3 (ipykernel)",
   "language": "python",
   "name": "python3"
  },
  "language_info": {
   "codemirror_mode": {
    "name": "ipython",
    "version": 3
   },
   "file_extension": ".py",
   "mimetype": "text/x-python",
   "name": "python",
   "nbconvert_exporter": "python",
   "pygments_lexer": "ipython3",
   "version": "3.11.5"
  }
 },
 "nbformat": 4,
 "nbformat_minor": 5
}
